{
 "cells": [
  {
   "cell_type": "code",
   "execution_count": 154,
   "id": "31a8bbb6",
   "metadata": {
    "scrolled": true
   },
   "outputs": [
    {
     "name": "stdout",
     "output_type": "stream",
     "text": [
      "{'text': 'Vf ie ) ILIP MORRIS Ph MANAGEMENT COAP. | . 100 PARK AVENUE, NEW YORK, N Y. 10017 TELEPHONE (212) 880-5000 CABLE ADORESS: POLD NEW YORK TELEX 422609 FAX NO. (212) 878-2408 ‘ \"OUR REF. SSA esr DEPARTMENT TRADEMARK YOUR REF November 20, 1989 WITHOUT PREJUDICE ene CONFIDENTIAL Sega Enterprises Inc. 2149 Paragon Drive San Jose, California 95131 Attention: Mr. Scott Yasuda Executive Vice-President RE: Infringement of MARLBORO and MARLBORO Roof Design Trademarks on Sega SUPER MONACO GP Video Arcade Game Dear Mr. Yasuda: - This is further to and will confirm our telephone conversation of November 15, 1989, wherein I objected to the Sega SUPER MONACO GP video arcade game, that I noted in the Penn Centers. Station, New York City location of Time Out Family Amusement In particular, the game has the following objectionable, unauthorized uses of Philip Morris trademarks: 1. Red Roof-like devices on game cabinet; eo 2. Roof Device images on video graphics; oo 3. MARLBORO word and Roof Devices on banner across race a course on video graphics; and oO? C2 MARLBORO and Roof Device on grand prix car appearing on video graphics. 090001 et ae ay res same Sr nt a a', 'tokens': [{'text': 'Vf', 'position': {'left': 1325, 'top': 45, 'width': 62, 'height': 23}, 'offset': 0}, {'text': 'ie', 'position': {'left': 1405, 'top': 129, 'width': 84, 'height': 49}, 'offset': 3}, {'text': ')', 'position': {'left': 1904, 'top': 133, 'width': 6, 'height': 32}, 'offset': 6}, {'text': 'ILIP', 'position': {'left': 1130, 'top': 197, 'width': 180, 'height': 154}, 'offset': 8}, {'text': 'MORRIS', 'position': {'left': 1340, 'top': 182, 'width': 383, 'height': 174}, 'offset': 13}, {'text': 'Ph', 'position': {'left': 943, 'top': 229, 'width': 171, 'height': 173}, 'offset': 20}, {'text': 'MANAGEMENT', 'position': {'left': 1138, 'top': 391, 'width': 294, 'height': 30}, 'offset': 23}, {'text': 'COAP.', 'position': {'left': 1455, 'top': 393, 'width': 116, 'height': 29}, 'offset': 34}, {'text': '|', 'position': {'left': 1794, 'top': 306, 'width': 6, 'height': 100}, 'offset': 40}, {'text': '.', 'position': {'left': 1916, 'top': 400, 'width': 4, 'height': 4}, 'offset': 42}, {'text': '100', 'position': {'left': 383, 'top': 446, 'width': 44, 'height': 22}, 'offset': 44}, {'text': 'PARK', 'position': {'left': 434, 'top': 446, 'width': 68, 'height': 23}, 'offset': 48}, {'text': 'AVENUE,', 'position': {'left': 511, 'top': 447, 'width': 115, 'height': 25}, 'offset': 53}, {'text': 'NEW', 'position': {'left': 635, 'top': 447, 'width': 61, 'height': 24}, 'offset': 61}, {'text': 'YORK,', 'position': {'left': 704, 'top': 448, 'width': 78, 'height': 25}, 'offset': 65}, {'text': 'N', 'position': {'left': 780, 'top': 442, 'width': 21, 'height': 41}, 'offset': 71}, {'text': 'Y.', 'position': {'left': 820, 'top': 451, 'width': 15, 'height': 21}, 'offset': 73}, {'text': '10017', 'position': {'left': 847, 'top': 451, 'width': 68, 'height': 23}, 'offset': 76}, {'text': 'TELEPHONE', 'position': {'left': 945, 'top': 429, 'width': 163, 'height': 77}, 'offset': 82}, {'text': '(212)', 'position': {'left': 1118, 'top': 453, 'width': 58, 'height': 27}, 'offset': 92}, {'text': '880-5000', 'position': {'left': 1183, 'top': 453, 'width': 116, 'height': 25}, 'offset': 98}, {'text': 'CABLE', 'position': {'left': 1328, 'top': 455, 'width': 88, 'height': 25}, 'offset': 107}, {'text': 'ADORESS:', 'position': {'left': 1423, 'top': 456, 'width': 136, 'height': 25}, 'offset': 113}, {'text': 'POLD', 'position': {'left': 1568, 'top': 456, 'width': 74, 'height': 25}, 'offset': 122}, {'text': 'NEW', 'position': {'left': 1650, 'top': 457, 'width': 64, 'height': 24}, 'offset': 127}, {'text': 'YORK', 'position': {'left': 1720, 'top': 457, 'width': 75, 'height': 24}, 'offset': 131}, {'text': 'TELEX', 'position': {'left': 1823, 'top': 457, 'width': 85, 'height': 26}, 'offset': 136}, {'text': '422609', 'position': {'left': 1914, 'top': 460, 'width': 94, 'height': 24}, 'offset': 142}, {'text': 'FAX', 'position': {'left': 2035, 'top': 460, 'width': 49, 'height': 25}, 'offset': 149}, {'text': 'NO.', 'position': {'left': 2075, 'top': 459, 'width': 58, 'height': 51}, 'offset': 153}, {'text': '(212)', 'position': {'left': 2123, 'top': 441, 'width': 81, 'height': 58}, 'offset': 157}, {'text': '878-2408', 'position': {'left': 2197, 'top': 444, 'width': 128, 'height': 56}, 'offset': 163}, {'text': '‘', 'position': {'left': 988, 'top': 556, 'width': 4, 'height': 10}, 'offset': 172}, {'text': '\"OUR', 'position': {'left': 1670, 'top': 546, 'width': 64, 'height': 54}, 'offset': 174}, {'text': 'REF.', 'position': {'left': 1734, 'top': 546, 'width': 64, 'height': 54}, 'offset': 179}, {'text': 'SSA', 'position': {'left': 1802, 'top': 586, 'width': 524, 'height': 14}, 'offset': 184}, {'text': 'esr', 'position': {'left': 2113, 'top': 581, 'width': 106, 'height': 22}, 'offset': 188}, {'text': 'DEPARTMENT', 'position': {'left': 377, 'top': 614, 'width': 191, 'height': 25}, 'offset': 192}, {'text': 'TRADEMARK', 'position': {'left': 378, 'top': 550, 'width': 175, 'height': 71}, 'offset': 203}, {'text': 'YOUR', 'position': {'left': 1667, 'top': 641, 'width': 79, 'height': 34}, 'offset': 213}, {'text': 'REF', 'position': {'left': 1749, 'top': 641, 'width': 58, 'height': 34}, 'offset': 218}, {'text': 'November', 'position': {'left': 1422, 'top': 780, 'width': 234, 'height': 34}, 'offset': 222}, {'text': '20,', 'position': {'left': 1691, 'top': 782, 'width': 76, 'height': 39}, 'offset': 231}, {'text': '1989', 'position': {'left': 1813, 'top': 783, 'width': 110, 'height': 33}, 'offset': 235}, {'text': 'WITHOUT', 'position': {'left': 1096, 'top': 975, 'width': 205, 'height': 34}, 'offset': 240}, {'text': 'PREJUDICE', 'position': {'left': 1332, 'top': 976, 'width': 262, 'height': 34}, 'offset': 248}, {'text': 'ene', 'position': {'left': 1794, 'top': 1249, 'width': 38, 'height': 6}, 'offset': 258}, {'text': 'CONFIDENTIAL', 'position': {'left': 1803, 'top': 1117, 'width': 416, 'height': 116}, 'offset': 262}, {'text': 'Sega', 'position': {'left': 384, 'top': 1271, 'width': 114, 'height': 42}, 'offset': 275}, {'text': 'Enterprises', 'position': {'left': 532, 'top': 1268, 'width': 318, 'height': 46}, 'offset': 280}, {'text': 'Inc.', 'position': {'left': 885, 'top': 1273, 'width': 105, 'height': 33}, 'offset': 292}, {'text': '2149', 'position': {'left': 386, 'top': 1321, 'width': 111, 'height': 34}, 'offset': 297}, {'text': 'Paragon', 'position': {'left': 532, 'top': 1322, 'width': 201, 'height': 42}, 'offset': 302}, {'text': 'Drive', 'position': {'left': 765, 'top': 1319, 'width': 141, 'height': 38}, 'offset': 310}, {'text': 'San', 'position': {'left': 382, 'top': 1372, 'width': 86, 'height': 32}, 'offset': 316}, {'text': 'Jose,', 'position': {'left': 498, 'top': 1373, 'width': 137, 'height': 38}, 'offset': 320}, {'text': 'California', 'position': {'left': 676, 'top': 1369, 'width': 290, 'height': 37}, 'offset': 326}, {'text': '95131', 'position': {'left': 1032, 'top': 1374, 'width': 141, 'height': 32}, 'offset': 337}, {'text': 'Attention:', 'position': {'left': 379, 'top': 1466, 'width': 285, 'height': 38}, 'offset': 343}, {'text': 'Mr.', 'position': {'left': 731, 'top': 1471, 'width': 77, 'height': 34}, 'offset': 354}, {'text': 'Scott', 'position': {'left': 849, 'top': 1470, 'width': 146, 'height': 34}, 'offset': 358}, {'text': 'Yasuda', 'position': {'left': 1029, 'top': 1470, 'width': 173, 'height': 34}, 'offset': 364}, {'text': 'Executive', 'position': {'left': 733, 'top': 1518, 'width': 261, 'height': 37}, 'offset': 371}, {'text': 'Vice-President', 'position': {'left': 1027, 'top': 1518, 'width': 408, 'height': 38}, 'offset': 381}, {'text': 'RE:', 'position': {'left': 524, 'top': 1670, 'width': 77, 'height': 32}, 'offset': 396}, {'text': 'Infringement', 'position': {'left': 674, 'top': 1667, 'width': 348, 'height': 45}, 'offset': 400}, {'text': 'of', 'position': {'left': 1057, 'top': 1670, 'width': 56, 'height': 34}, 'offset': 413}, {'text': 'MARLBORO', 'position': {'left': 1143, 'top': 1672, 'width': 232, 'height': 32}, 'offset': 416}, {'text': 'and', 'position': {'left': 1407, 'top': 1672, 'width': 85, 'height': 34}, 'offset': 425}, {'text': 'MARLBORO', 'position': {'left': 1522, 'top': 1674, 'width': 237, 'height': 34}, 'offset': 429}, {'text': 'Roof', 'position': {'left': 1792, 'top': 1675, 'width': 118, 'height': 35}, 'offset': 438}, {'text': 'Design', 'position': {'left': 1943, 'top': 1674, 'width': 172, 'height': 46}, 'offset': 443}, {'text': 'Trademarks', 'position': {'left': 670, 'top': 1719, 'width': 289, 'height': 34}, 'offset': 450}, {'text': 'on', 'position': {'left': 995, 'top': 1727, 'width': 56, 'height': 26}, 'offset': 461}, {'text': 'Sega', 'position': {'left': 1084, 'top': 1722, 'width': 112, 'height': 41}, 'offset': 464}, {'text': 'SUPER', 'position': {'left': 1230, 'top': 1722, 'width': 146, 'height': 34}, 'offset': 469}, {'text': 'MONACO', 'position': {'left': 1404, 'top': 1723, 'width': 176, 'height': 33}, 'offset': 475}, {'text': 'GP', 'position': {'left': 1611, 'top': 1725, 'width': 58, 'height': 33}, 'offset': 482}, {'text': 'Video', 'position': {'left': 1699, 'top': 1721, 'width': 150, 'height': 43}, 'offset': 485}, {'text': 'Arcade', 'position': {'left': 1881, 'top': 1726, 'width': 174, 'height': 34}, 'offset': 491}, {'text': 'Game', 'position': {'left': 2085, 'top': 1729, 'width': 116, 'height': 34}, 'offset': 498}, {'text': 'Dear', 'position': {'left': 377, 'top': 1894, 'width': 113, 'height': 33}, 'offset': 503}, {'text': 'Mr.', 'position': {'left': 520, 'top': 1896, 'width': 77, 'height': 31}, 'offset': 508}, {'text': 'Yasuda:', 'position': {'left': 640, 'top': 1895, 'width': 191, 'height': 34}, 'offset': 512}, {'text': '-', 'position': {'left': 2189, 'top': 1999, 'width': 14, 'height': 4}, 'offset': 520}, {'text': 'This', 'position': {'left': 520, 'top': 1990, 'width': 112, 'height': 37}, 'offset': 522}, {'text': 'is', 'position': {'left': 670, 'top': 1991, 'width': 51, 'height': 37}, 'offset': 527}, {'text': 'further', 'position': {'left': 757, 'top': 1995, 'width': 200, 'height': 34}, 'offset': 530}, {'text': 'to', 'position': {'left': 990, 'top': 1996, 'width': 57, 'height': 33}, 'offset': 538}, {'text': 'and', 'position': {'left': 1080, 'top': 1996, 'width': 85, 'height': 34}, 'offset': 541}, {'text': 'will', 'position': {'left': 1194, 'top': 1994, 'width': 113, 'height': 37}, 'offset': 545}, {'text': 'confirm', 'position': {'left': 1342, 'top': 1995, 'width': 204, 'height': 36}, 'offset': 550}, {'text': 'our', 'position': {'left': 1577, 'top': 2006, 'width': 87, 'height': 27}, 'offset': 558}, {'text': 'telephone', 'position': {'left': 1697, 'top': 1999, 'width': 266, 'height': 44}, 'offset': 562}, {'text': 'conversation', 'position': {'left': 373, 'top': 2041, 'width': 348, 'height': 38}, 'offset': 572}, {'text': 'of', 'position': {'left': 754, 'top': 2045, 'width': 53, 'height': 35}, 'offset': 585}, {'text': 'November', 'position': {'left': 839, 'top': 2045, 'width': 239, 'height': 36}, 'offset': 588}, {'text': '15,', 'position': {'left': 1111, 'top': 2048, 'width': 73, 'height': 41}, 'offset': 597}, {'text': '1989,', 'position': {'left': 1227, 'top': 2049, 'width': 132, 'height': 41}, 'offset': 601}, {'text': 'wherein', 'position': {'left': 1399, 'top': 2046, 'width': 204, 'height': 38}, 'offset': 607}, {'text': 'I', 'position': {'left': 1637, 'top': 2051, 'width': 23, 'height': 34}, 'offset': 615}, {'text': 'objected', 'position': {'left': 1696, 'top': 2047, 'width': 238, 'height': 47}, 'offset': 617}, {'text': 'to', 'position': {'left': 1965, 'top': 2052, 'width': 55, 'height': 35}, 'offset': 626}, {'text': 'the', 'position': {'left': 2052, 'top': 2053, 'width': 85, 'height': 36}, 'offset': 629}, {'text': 'Sega', 'position': {'left': 2168, 'top': 2056, 'width': 112, 'height': 42}, 'offset': 633}, {'text': 'SUPER', 'position': {'left': 371, 'top': 2096, 'width': 146, 'height': 33}, 'offset': 638}, {'text': 'MONACO', 'position': {'left': 546, 'top': 2097, 'width': 174, 'height': 33}, 'offset': 644}, {'text': 'GP', 'position': {'left': 752, 'top': 2098, 'width': 55, 'height': 32}, 'offset': 651}, {'text': 'video', 'position': {'left': 838, 'top': 2094, 'width': 146, 'height': 36}, 'offset': 654}, {'text': 'arcade', 'position': {'left': 1018, 'top': 2098, 'width': 173, 'height': 34}, 'offset': 660}, {'text': 'game,', 'position': {'left': 1223, 'top': 2106, 'width': 136, 'height': 36}, 'offset': 667}, {'text': 'that', 'position': {'left': 1399, 'top': 2099, 'width': 114, 'height': 34}, 'offset': 673}, {'text': 'I', 'position': {'left': 1547, 'top': 2102, 'width': 22, 'height': 32}, 'offset': 678}, {'text': 'noted', 'position': {'left': 1604, 'top': 2101, 'width': 149, 'height': 35}, 'offset': 680}, {'text': 'in', 'position': {'left': 1788, 'top': 2099, 'width': 55, 'height': 38}, 'offset': 686}, {'text': 'the', 'position': {'left': 1875, 'top': 2103, 'width': 86, 'height': 34}, 'offset': 689}, {'text': 'Penn', 'position': {'left': 1994, 'top': 2105, 'width': 112, 'height': 34}, 'offset': 693}, {'text': 'Centers.', 'position': {'left': 370, 'top': 2196, 'width': 223, 'height': 32}, 'offset': 698}, {'text': 'Station,', 'position': {'left': 371, 'top': 2142, 'width': 223, 'height': 43}, 'offset': 707}, {'text': 'New', 'position': {'left': 634, 'top': 2148, 'width': 87, 'height': 32}, 'offset': 716}, {'text': 'York', 'position': {'left': 752, 'top': 2147, 'width': 114, 'height': 34}, 'offset': 720}, {'text': 'City', 'position': {'left': 898, 'top': 2145, 'width': 118, 'height': 44}, 'offset': 725}, {'text': 'location', 'position': {'left': 1049, 'top': 2146, 'width': 230, 'height': 37}, 'offset': 730}, {'text': 'of', 'position': {'left': 1311, 'top': 2150, 'width': 55, 'height': 33}, 'offset': 739}, {'text': 'Time', 'position': {'left': 1398, 'top': 2147, 'width': 114, 'height': 37}, 'offset': 742}, {'text': 'Out', 'position': {'left': 1543, 'top': 2151, 'width': 87, 'height': 33}, 'offset': 747}, {'text': 'Family', 'position': {'left': 1664, 'top': 2149, 'width': 179, 'height': 46}, 'offset': 751}, {'text': 'Amusement', 'position': {'left': 1873, 'top': 2155, 'width': 262, 'height': 34}, 'offset': 758}, {'text': 'In', 'position': {'left': 519, 'top': 2296, 'width': 54, 'height': 31}, 'offset': 768}, {'text': 'particular,', 'position': {'left': 603, 'top': 2292, 'width': 310, 'height': 44}, 'offset': 771}, {'text': 'the', 'position': {'left': 954, 'top': 2296, 'width': 85, 'height': 34}, 'offset': 783}, {'text': 'game', 'position': {'left': 1067, 'top': 2275, 'width': 116, 'height': 64}, 'offset': 787}, {'text': 'has', 'position': {'left': 1219, 'top': 2298, 'width': 85, 'height': 34}, 'offset': 792}, {'text': 'the', 'position': {'left': 1337, 'top': 2298, 'width': 85, 'height': 34}, 'offset': 796}, {'text': 'following', 'position': {'left': 1457, 'top': 2298, 'width': 263, 'height': 46}, 'offset': 800}, {'text': 'objectionable,', 'position': {'left': 1751, 'top': 2298, 'width': 400, 'height': 47}, 'offset': 810}, {'text': 'unauthorized', 'position': {'left': 367, 'top': 2342, 'width': 350, 'height': 36}, 'offset': 825}, {'text': 'uses', 'position': {'left': 748, 'top': 2353, 'width': 111, 'height': 25}, 'offset': 838}, {'text': 'of', 'position': {'left': 894, 'top': 2346, 'width': 56, 'height': 33}, 'offset': 843}, {'text': 'Philip', 'position': {'left': 984, 'top': 2344, 'width': 175, 'height': 44}, 'offset': 846}, {'text': 'Morris', 'position': {'left': 1189, 'top': 2345, 'width': 173, 'height': 37}, 'offset': 853}, {'text': 'trademarks:', 'position': {'left': 1395, 'top': 2344, 'width': 310, 'height': 61}, 'offset': 860}, {'text': '1.', 'position': {'left': 517, 'top': 2445, 'width': 44, 'height': 32}, 'offset': 872}, {'text': 'Red', 'position': {'left': 659, 'top': 2444, 'width': 85, 'height': 34}, 'offset': 875}, {'text': 'Roof-like', 'position': {'left': 761, 'top': 2431, 'width': 278, 'height': 50}, 'offset': 879}, {'text': 'devices', 'position': {'left': 1071, 'top': 2443, 'width': 200, 'height': 38}, 'offset': 889}, {'text': 'on', 'position': {'left': 1305, 'top': 2456, 'width': 56, 'height': 25}, 'offset': 897}, {'text': 'game', 'position': {'left': 1392, 'top': 2456, 'width': 115, 'height': 47}, 'offset': 900}, {'text': 'cabinet;', 'position': {'left': 1539, 'top': 2445, 'width': 231, 'height': 42}, 'offset': 905}, {'text': 'eo', 'position': {'left': 2327, 'top': 2479, 'width': 54, 'height': 29}, 'offset': 914}, {'text': '2.', 'position': {'left': 513, 'top': 2545, 'width': 46, 'height': 31}, 'offset': 917}, {'text': 'Roof', 'position': {'left': 658, 'top': 2545, 'width': 111, 'height': 34}, 'offset': 920}, {'text': 'Device', 'position': {'left': 803, 'top': 2542, 'width': 173, 'height': 38}, 'offset': 925}, {'text': 'images', 'position': {'left': 1014, 'top': 2543, 'width': 170, 'height': 46}, 'offset': 932}, {'text': 'on', 'position': {'left': 1216, 'top': 2555, 'width': 55, 'height': 26}, 'offset': 939}, {'text': 'video', 'position': {'left': 1301, 'top': 2544, 'width': 145, 'height': 38}, 'offset': 942}, {'text': 'graphics;', 'position': {'left': 1478, 'top': 2546, 'width': 258, 'height': 46}, 'offset': 948}, {'text': 'oo', 'position': {'left': 2321, 'top': 2614, 'width': 51, 'height': 30}, 'offset': 958}, {'text': '3.', 'position': {'left': 513, 'top': 2647, 'width': 44, 'height': 30}, 'offset': 961}, {'text': 'MARLBORO', 'position': {'left': 655, 'top': 2647, 'width': 231, 'height': 32}, 'offset': 964}, {'text': 'word', 'position': {'left': 917, 'top': 2647, 'width': 119, 'height': 32}, 'offset': 973}, {'text': 'and', 'position': {'left': 1070, 'top': 2647, 'width': 84, 'height': 33}, 'offset': 978}, {'text': 'Roof', 'position': {'left': 1186, 'top': 2649, 'width': 113, 'height': 32}, 'offset': 982}, {'text': 'Devices', 'position': {'left': 1332, 'top': 2647, 'width': 199, 'height': 34}, 'offset': 987}, {'text': 'on', 'position': {'left': 1565, 'top': 2658, 'width': 56, 'height': 25}, 'offset': 995}, {'text': 'banner', 'position': {'left': 1654, 'top': 2651, 'width': 180, 'height': 34}, 'offset': 998}, {'text': 'across', 'position': {'left': 1866, 'top': 2660, 'width': 170, 'height': 26}, 'offset': 1005}, {'text': 'race', 'position': {'left': 2070, 'top': 2662, 'width': 111, 'height': 25}, 'offset': 1012}, {'text': 'a', 'position': {'left': 2318, 'top': 2660, 'width': 51, 'height': 29}, 'offset': 1017}, {'text': 'course', 'position': {'left': 655, 'top': 2703, 'width': 171, 'height': 27}, 'offset': 1019}, {'text': 'on', 'position': {'left': 859, 'top': 2703, 'width': 55, 'height': 27}, 'offset': 1026}, {'text': 'video', 'position': {'left': 946, 'top': 2694, 'width': 149, 'height': 38}, 'offset': 1029}, {'text': 'graphics;', 'position': {'left': 1126, 'top': 2694, 'width': 253, 'height': 49}, 'offset': 1035}, {'text': 'and', 'position': {'left': 1418, 'top': 2699, 'width': 85, 'height': 34}, 'offset': 1045}, {'text': 'oO?', 'position': {'left': 2314, 'top': 2750, 'width': 51, 'height': 30}, 'offset': 1049}, {'text': 'C2', 'position': {'left': 2312, 'top': 2798, 'width': 52, 'height': 31}, 'offset': 1053}, {'text': 'MARLBORO', 'position': {'left': 653, 'top': 2797, 'width': 230, 'height': 33}, 'offset': 1056}, {'text': 'and', 'position': {'left': 917, 'top': 2797, 'width': 87, 'height': 34}, 'offset': 1065}, {'text': 'Roof', 'position': {'left': 1035, 'top': 2798, 'width': 116, 'height': 34}, 'offset': 1069}, {'text': 'Device', 'position': {'left': 1186, 'top': 2796, 'width': 169, 'height': 35}, 'offset': 1074}, {'text': 'on', 'position': {'left': 1388, 'top': 2806, 'width': 53, 'height': 26}, 'offset': 1081}, {'text': 'grand', 'position': {'left': 1474, 'top': 2800, 'width': 145, 'height': 42}, 'offset': 1084}, {'text': 'prix', 'position': {'left': 1651, 'top': 2798, 'width': 120, 'height': 45}, 'offset': 1090}, {'text': 'car', 'position': {'left': 1803, 'top': 2809, 'width': 89, 'height': 26}, 'offset': 1095}, {'text': 'appearing', 'position': {'left': 1923, 'top': 2801, 'width': 256, 'height': 46}, 'offset': 1099}, {'text': 'on', 'position': {'left': 2210, 'top': 2814, 'width': 55, 'height': 25}, 'offset': 1109}, {'text': 'video', 'position': {'left': 653, 'top': 2842, 'width': 142, 'height': 36}, 'offset': 1112}, {'text': 'graphics.', 'position': {'left': 825, 'top': 2844, 'width': 258, 'height': 45}, 'offset': 1118}, {'text': '090001', 'position': {'left': 1965, 'top': 2920, 'width': 259, 'height': 64}, 'offset': 1128}, {'text': 'et', 'position': {'left': 160, 'top': 3150, 'width': 17, 'height': 22}, 'offset': 1135}, {'text': 'ae', 'position': {'left': 177, 'top': 3150, 'width': 25, 'height': 22}, 'offset': 1138}, {'text': 'ay', 'position': {'left': 209, 'top': 3150, 'width': 19, 'height': 22}, 'offset': 1141}, {'text': 'res', 'position': {'left': 232, 'top': 3161, 'width': 53, 'height': 4}, 'offset': 1144}, {'text': 'same', 'position': {'left': 291, 'top': 3150, 'width': 22, 'height': 22}, 'offset': 1148}, {'text': 'Sr', 'position': {'left': 332, 'top': 3159, 'width': 26, 'height': 5}, 'offset': 1153}, {'text': 'nt', 'position': {'left': 361, 'top': 3150, 'width': 11, 'height': 22}, 'offset': 1156}, {'text': 'a', 'position': {'left': 372, 'top': 3150, 'width': 8, 'height': 22}, 'offset': 1159}, {'text': 'a', 'position': {'left': 420, 'top': 3159, 'width': 22, 'height': 4}, 'offset': 1161}], 'source': {'width': 2560, 'height': 3245}}\n",
      "Wall time: 5.97 s\n"
     ]
    }
   ],
   "source": [
    "%%time\n",
    "#  OCR Request\n",
    "\n",
    "import base64\n",
    "import requests\n",
    "import json\n",
    "from pathlib import Path\n",
    "\n",
    "\n",
    "def encode_b64(file_path):\n",
    "    \"\"\"Function encodes file to base64.\"\"\"\n",
    "\n",
    "    with open(file_path, \"rb\") as rf:\n",
    "        bytes_ = rf.read()\n",
    "        file_b64 = str(base64.b64encode(bytes_), 'utf-8')\n",
    "\n",
    "    return file_b64\n",
    "\n",
    "\n",
    "image_path = r\"./pages/source/adh36e00_1.tif\"\n",
    "address = \"http://127.0.0.1:7777/v1/recognize_image\"\n",
    "\n",
    "image_name = Path(image_path).name\n",
    "encoded_image = encode_b64(image_path)\n",
    "\n",
    "headers = {\"Content-Type\": \"application/json\"}\n",
    "body = {\n",
    "    \"filename\": image_name,\n",
    "    \"file_b64\": encoded_image\n",
    "}\n",
    "\n",
    "response = requests.post(address, json=json.dumps(body), headers=headers)\n",
    "\n",
    "print(response.json())"
   ]
  },
  {
   "cell_type": "code",
   "execution_count": 155,
   "id": "ee6bff42",
   "metadata": {},
   "outputs": [
    {
     "name": "stdout",
     "output_type": "stream",
     "text": [
      "{\"facts\": [{\"text\": \"Bob Ross\", \"tag\": \"PERSON\", \"tokens\": [{\"text\": \"Bob\", \"offset\": 0}, {\"text\": \"Ross\", \"offset\": 4}]}, {\"text\": \"Florida\", \"tag\": \"LOCATION\", \"tokens\": [{\"text\": \"Florida\", \"offset\": 18}]}]}\n",
      "Wall time: 7.01 ms\n"
     ]
    }
   ],
   "source": [
    "%%time\n",
    "#  NER Request\n",
    "\n",
    "import requests\n",
    "import json\n",
    "\n",
    "\n",
    "text = \"Bob Ross lived in Florida.\"\n",
    "\n",
    "address = \"http://127.0.0.1:7777/v1/ner_txt\"\n",
    "\n",
    "headers = {\"Content-Type\": \"application/json\"}\n",
    "body = {\n",
    "    \"text\": text\n",
    "}\n",
    "\n",
    "response = requests.post(address, json=json.dumps(body), headers=headers)\n",
    "\n",
    "print(response.text)"
   ]
  },
  {
   "cell_type": "code",
   "execution_count": 156,
   "id": "286a2640",
   "metadata": {},
   "outputs": [
    {
     "name": "stdout",
     "output_type": "stream",
     "text": [
      "{'facts': [{'text': 'PARK', 'tag': 'ORGANIZATION', 'tokens': [{'text': 'PARK', 'position': {'left': 434, 'top': 446, 'width': 68, 'height': 23}, 'offset': 48}]}, {'text': 'AVENUE', 'tag': 'ORGANIZATION', 'tokens': [{'text': 'AVENUE,', 'position': {'left': 511, 'top': 447, 'width': 115, 'height': 25}, 'offset': 53}]}, {'text': 'NEW YORK', 'tag': 'ORGANIZATION', 'tokens': [{'text': 'NEW', 'position': {'left': 635, 'top': 447, 'width': 61, 'height': 24}, 'offset': 61}, {'text': 'YORK,', 'position': {'left': 704, 'top': 448, 'width': 78, 'height': 25}, 'offset': 65}]}, {'text': 'N Y. 10017 TELEPHONE', 'tag': 'ORGANIZATION', 'tokens': [{'text': 'N', 'position': {'left': 780, 'top': 442, 'width': 21, 'height': 41}, 'offset': 71}, {'text': 'Y.', 'position': {'left': 820, 'top': 451, 'width': 15, 'height': 21}, 'offset': 73}, {'text': '10017', 'position': {'left': 847, 'top': 451, 'width': 68, 'height': 23}, 'offset': 76}, {'text': 'TELEPHONE', 'position': {'left': 945, 'top': 429, 'width': 163, 'height': 77}, 'offset': 82}]}, {'text': 'California', 'tag': 'ORGANIZATION', 'tokens': [{'text': 'California', 'position': {'left': 676, 'top': 1369, 'width': 290, 'height': 37}, 'offset': 326}]}], 'source': {'width': 2560, 'height': 3245}}\n",
      "Wall time: 6.01 s\n"
     ]
    }
   ],
   "source": [
    "%%time\n",
    "#  NER image Request\n",
    "\n",
    "import base64\n",
    "import requests\n",
    "import json\n",
    "from pathlib import Path\n",
    "\n",
    "\n",
    "def encode_b64(file_path):\n",
    "    \"\"\"Function encodes file to base64.\"\"\"\n",
    "\n",
    "    with open(file_path, \"rb\") as rf:\n",
    "        bytes_ = rf.read()\n",
    "        file_b64 = str(base64.b64encode(bytes_), 'utf-8')\n",
    "\n",
    "    return file_b64\n",
    "\n",
    "\n",
    "image_path = r\"./pages/source/adh36e00_1.tif\"\n",
    "address = \"http://127.0.0.1:7777/v1/ner_image\"\n",
    "\n",
    "image_name = Path(image_path).name\n",
    "encoded_image = encode_b64(image_path)\n",
    "\n",
    "headers = {\"Content-Type\": \"application/json\"}\n",
    "body = {\n",
    "    \"filename\": image_name,\n",
    "    \"file_b64\": encoded_image\n",
    "}\n",
    "\n",
    "response = requests.post(address, json=json.dumps(body), headers=headers)\n",
    "\n",
    "print(response.json())"
   ]
  },
  {
   "cell_type": "code",
   "execution_count": 157,
   "id": "951426f8",
   "metadata": {
    "scrolled": true
   },
   "outputs": [
    {
     "name": "stdout",
     "output_type": "stream",
     "text": [
      "{\"text\": \"About Main C DLL Demo am (LisA\\\\io) aero: LESDTOOLS C DLL Main Demo 32 Bit Version 1.0 Copyright \\u00a9 1991-2014 LEAD Technologies, Inc. SLL RIGHTS RESERVED. Technical Support: 192? South Tryon Street Charlotte, NC 28203 (704) 372-9651 LEADTOOLS\\u00ae for Wins2 Raster Imaging Pro Version 18.0 Date: Feb 14 2014 Time: 16:52:29 You are licensed to use this program as described in the license agreement contained in the help file SESH RRR SCHR RRR eee eee eee OK About Main C DLL Demo (Lisa\\\\io) OOS LESDTOOLS C DLL Main Demo 32 Bit Version 1.0 Copyright \\u00a9 1991-2014 LEAD Technologies, Inc. SLL RIGHTS RESERVED. Technical Support: 192? South Tryon Street Charlotte, NC 28203 (704) 372-9691 LEADTOOLS\\u00ae for Wins2 Raster Imaging Pro Yersion 18.0 Date: Feb 14 2014 Time: 16:52:29 You are licensed to use this program as described in the license agreement contained in the help file SESE RRR LPR RRRESE EEE EE SESE EEE EE EEE EES OK . : \\u00a2 peotcaes : . ** oe) \\u00a2 eee e008 @ o% \\u00abeet 7 mre eeeeeee eee ee \\u201csesssceee ee \\u2014e \\u201c< eeececece nme . * o- SESS SSS SSS SESE HHS HEHEHE EEE Eee Sereeeeeeeeeeeee eee * veeee : OF pareSecceeeeseeseeseesSSSSESEESEESEESESESESESESSSESSESESSSESESESESESESSESSESESESSD ESSE > \\u201c2: SERRE EERE EERE EERE EERE EERE EEEE HEHEHE EERE E EERE EERE EERE < Ab 5 \\u201c a . ut 's . ( CQETiisiissiesssssssssssssissiessessisssessessiesseesieeiieses: Ay . . : . \\u2018se amomed\\u00ae : eee eee eee eee ee eee ee Te eee eee eee ee ail sf \\u00ae*\\u00a2e\\u00a2,64.* ie etiet . A - . a e A < eee eee eee ee eee eee eee See eo OOOO Ooo eee \\u00a9 \\u00a9 Oe ee eeeeeeete\\u00ab an ee ee ee & 5\\u00b099, 9,9, 9,9, 9,0 00 0 0 0 0 0 0 0 0 0 00%, \\\"5 \\\"11 \\\"12's 00000000 o\\u00ae:! eee eee eeaeaeaeneaeneaeneenene eee eee eeeneeneenenenenenee eee eee eee eee *+* . see ee ee eee eeeeee eee eeeeeeaeenenenene ** ** {Sale REED eee eee eee eee eee ee ee ee eee eee eee eee ee ee eee eee e eer ee eee CSS SSS SSeS SSS SSE ESET LS FEET TEE E SEES Oe 9, CRC eee eee eee eee eeeeeeeeeeee ee Oiag *eeee *ee eae \\u00b0 \\u201ceee ef & \\u00a9 \\u201ceee ee \\u00a9 \\u201ceee #8 i \\u00ab \\u00ab eee + \\u00a9 ee ee eee . ~meeterr eee ** eee eee eee eee. spe ee, eee eee ee \\u00a9 sree ft ** rf * . . \\u201c: *e-e i ra eee SESE KSSH EERE EEE EERE RRR RRR RRR eee eee Raises \\u201c2: LESDTOOLS C DLL Main Demo 32 Bit Version 1.0 Copyright \\u00a9 1991-2014 LEAD Technologies, Inc. SLL RIGHTS RESERVED. Technical Suppott: 192? South Tryon Street Charlotte, NC 28203 (704) 372-9691 LEADTOOLS\\u00ae for Wins2 Raster Imaging Pro Version 18.0 Date: Feb 14 2014 Time: 16:52:29 You are licensed to use this program as described in the license agreement contained in the help file SEER SEETHER RRs OK (PERE SSSESE SEES EE EEE EEE EEE SEC eee eee ee ee AQ afl] djay au) ul pauieyuos yuawaasbe asuaay au) ul paquasap se weGold siyj) asn 0) pasuady aie no) b\\u00e9-\\u20acS-9) Sul] FLO FLOPS AEG O'9| uoIsia,, OJ4 Buibew) saysey col 10] @S JOOLOFI 896-22 (FOZ) \\u00a30282 IN SROPEYS JBANS UAL] UNOS 2761 woddns jeouysa | \\u2018Q3Ad555d SLHSId 117 \\u2018uy \\u201csalBojouYysa | Q\\u00a537 FLOZ-LBGL @ 1YSuAdoy O | MOIsIsA tg ce OWE YEW 110 9 SIOOLOVS1 scr iiiigiifer aii tess ceeehieses thessr se SESE EERE EERE EERE EEE EEE EEE EERE EERE EEE ERE EER RET eee eee ee e*\\u00ae eee eee ween Tree ee EZ eee mee ee eee eee eZ eee Lee ee LP ee ** ee reve *e ee ere ee eee re. LU UL mUc mC mC hee ee enenene ** *seeeeeee \\u201cvee 8 \\u00a9 \\u00a9 o'e.*.*.** 2% ** Foe & OOP, 8 Se, 8 FSS, 8 \\u00a9 SH, 28 FH, AF SSS, FFF,  F\\u20acFFFVEGeeeee eee eenee \\u201ceee \\u00ab Gwe te eee see \\u201cvee \\u00a9 Wee eee ee \\u00a9 ee ***eeeeeeeeeeeee, te eeeeeeeeeeeeeeeeoeoee SS EO Ee teckiay \\u201cee Dee ee ee ee ee e886 ote ee eee eee ee eee eee ** EEE ee Oe ee Oe + ** eeeeeeeeeeeeeeee ~* eee eee eeeeeeeeee SSSSSSSeeeeeeeee, gt eeeeeeeeeeeeeeeeeee CR Ee eee eee eaeeeaeneaeneaeeenene CGP EAS tp Oy EASY . 2 0%,*,%, 99,999 9 0 0 0 0 0 0 \\u00a9 One et RRR eee eee eee eee eee eee FoF ee ete eet! . e*eeeeee\\u00ae CCRC eee eee ee eee eee\\u2019 * \\u201cvee ee ewe ewe errr errr ere eee eee ee eee eee eee ee ee ee ee eee ee ee ee ee ee ee rs Sif eee eevee eeeneenne ee fe ee 8 ee * * . 3 eee eee eee eeeeeeeeeee . cscseseoseseese\\u00ae < eeeelhe > See . >. > f . : ** SESS ESESESESEH HEHEHE HEHEHE EEE EEE EE -*. . . mre . es \\u201cs . =o\\\", 2 . *, : oe * 4. ** ws 3s ** . es . sos CS Prcacoccsses \\u201c% \\u201d Atte eeeeeee o**** 4\\\" . wnanaman . <> NALS TSS . Tees, : ; (Ay . * 4 \\u201cs Sey Ber SEL5e, About Main C DLL Demo am (LisA\\\\io) aero: LESDTOOLS C DLL Main Demo 32 Bit Version 1.0 Copyright \\u00a9 1991-2014 LEAD Technologies, Inc. SLL RIGHTS RESERVED. Technical Support: 192? South Tryon Street Charlotte, NC 28203 (704) 372-9651 LEADTOOLS\\u00ae for Wins2 Raster Imaging Pro Version 18.0 Date: Feb 14 2014 Time: 16:52:29 You are licensed to use this program as described in the license agreement contained in the help file SESH RRR SCHR RRR eee eee eee OK About Main C DLL Derma am EAE, he TE LESDTOOLS C DLL Main Demo 32 Bit Version 1.0 Copyright \\u00a9 1991-2014 LEAD Technologies, Inc. SLL RIGHTS RESERVED. Technical Suppott: 192? South Tryon Street Charlotte, NC 28203 Gn) erento LEADTUOLS\\u00ae for Wins2 Raster Imaging Pro Version 18.0 Date: Feb 14 2014 Time: 16:52:29 baal O =) (-M (et) gt -ie eM aaa) (ele f=] ees fe) 1 in the license agreement contained in the help file PRR RSS S SEES EEE EEE EE EEE EEE ESS (PE RESESEEE SESE ESE EE EERE EERE als\", \"pages\": [{\"index\": 0, \"text\": \"About Main C DLL Demo am (LisA\\\\io) aero: LESDTOOLS C DLL Main Demo 32 Bit Version 1.0 Copyright \\u00a9 1991-2014 LEAD Technologies, Inc. SLL RIGHTS RESERVED. Technical Support: 192? South Tryon Street Charlotte, NC 28203 (704) 372-9651 LEADTOOLS\\u00ae for Wins2 Raster Imaging Pro Version 18.0 Date: Feb 14 2014 Time: 16:52:29 You are licensed to use this program as described in the license agreement contained in the help file SESH RRR SCHR RRR eee eee eee OK\", \"objects\": [{\"type\": \"logo\", \"position\": {\"left\": 5, \"top\": 10, \"width\": 20, \"height\": 30}}], \"info\": {\"width\": 1, \"height\": 1, \"type\": \"main\"}, \"facts\": []}, {\"index\": 1, \"text\": \"About Main C DLL Demo (Lisa\\\\io) OOS LESDTOOLS C DLL Main Demo 32 Bit Version 1.0 Copyright \\u00a9 1991-2014 LEAD Technologies, Inc. SLL RIGHTS RESERVED. Technical Support: 192? South Tryon Street Charlotte, NC 28203 (704) 372-9691 LEADTOOLS\\u00ae for Wins2 Raster Imaging Pro Yersion 18.0 Date: Feb 14 2014 Time: 16:52:29 You are licensed to use this program as described in the license agreement contained in the help file SESE RRR LPR RRRESE EEE EE SESE EEE EE EEE EES OK\", \"objects\": [{\"type\": \"logo\", \"position\": {\"left\": 5, \"top\": 10, \"width\": 20, \"height\": 30}}], \"info\": {\"width\": 1, \"height\": 1, \"type\": \"main\"}, \"facts\": []}, {\"index\": 2, \"text\": \". : \\u00a2 peotcaes : . ** oe) \\u00a2 eee e008 @ o% \\u00abeet 7 mre eeeeeee eee ee \\u201csesssceee ee \\u2014e \\u201c< eeececece nme . * o- SESS SSS SSS SESE HHS HEHEHE EEE Eee Sereeeeeeeeeeeee eee * veeee : OF pareSecceeeeseeseeseesSSSSESEESEESEESESESESESESSSESSESESSSESESESESESESSESSESESESSD ESSE > \\u201c2: SERRE EERE EERE EERE EERE EERE EEEE HEHEHE EERE E EERE EERE EERE < Ab 5 \\u201c a . ut 's . ( CQETiisiissiesssssssssssssissiessessisssessessiesseesieeiieses: Ay . . : . \\u2018se amomed\\u00ae : eee eee eee eee ee eee ee Te eee eee eee ee ail sf \\u00ae*\\u00a2e\\u00a2,64.* ie etiet . A - . a e A < eee eee eee ee eee eee eee See eo OOOO Ooo eee \\u00a9 \\u00a9 Oe ee eeeeeeete\\u00ab an ee ee ee & 5\\u00b099, 9,9, 9,9, 9,0 00 0 0 0 0 0 0 0 0 0 00%, \\\"5 \\\"11 \\\"12's 00000000 o\\u00ae:! eee eee eeaeaeaeneaeneaeneenene eee eee eeeneeneenenenenenee eee eee eee eee *+* . see ee ee eee eeeeee eee eeeeeeaeenenenene ** ** {Sale REED eee eee eee eee eee ee ee ee eee eee eee eee ee ee eee eee e eer ee eee CSS SSS SSeS SSS SSE ESET LS FEET TEE E SEES Oe 9, CRC eee eee eee eee eeeeeeeeeeee ee Oiag *eeee *ee eae \\u00b0 \\u201ceee ef & \\u00a9 \\u201ceee ee \\u00a9 \\u201ceee #8 i \\u00ab \\u00ab eee + \\u00a9 ee ee eee . ~meeterr eee ** eee eee eee eee. spe ee, eee eee ee \\u00a9 sree ft ** rf * . . \\u201c: *e-e i ra eee SESE KSSH EERE EEE EERE RRR RRR RRR eee eee Raises \\u201c2: LESDTOOLS C DLL Main Demo 32 Bit Version 1.0 Copyright \\u00a9 1991-2014 LEAD Technologies, Inc. SLL RIGHTS RESERVED. Technical Suppott: 192? South Tryon Street Charlotte, NC 28203 (704) 372-9691 LEADTOOLS\\u00ae for Wins2 Raster Imaging Pro Version 18.0 Date: Feb 14 2014 Time: 16:52:29 You are licensed to use this program as described in the license agreement contained in the help file SEER SEETHER RRs OK\", \"objects\": [{\"type\": \"logo\", \"position\": {\"left\": 5, \"top\": 10, \"width\": 20, \"height\": 30}}], \"info\": {\"width\": 1, \"height\": 1, \"type\": \"main\"}, \"facts\": []}, {\"index\": 3, \"text\": \"(PERE SSSESE SEES EE EEE EEE EEE SEC eee eee ee ee AQ afl] djay au) ul pauieyuos yuawaasbe asuaay au) ul paquasap se weGold siyj) asn 0) pasuady aie no) b\\u00e9-\\u20acS-9) Sul] FLO FLOPS AEG O'9| uoIsia,, OJ4 Buibew) saysey col 10] @S JOOLOFI 896-22 (FOZ) \\u00a30282 IN SROPEYS JBANS UAL] UNOS 2761 woddns jeouysa | \\u2018Q3Ad555d SLHSId 117 \\u2018uy \\u201csalBojouYysa | Q\\u00a537 FLOZ-LBGL @ 1YSuAdoy O | MOIsIsA tg ce OWE YEW 110 9 SIOOLOVS1 scr iiiigiifer aii tess ceeehieses thessr se SESE EERE EERE EERE EEE EEE EEE EERE EERE EEE ERE EER RET eee eee ee e*\\u00ae eee eee ween Tree ee EZ eee mee ee eee eee eZ eee Lee ee LP ee ** ee reve *e ee ere ee eee re. LU UL mUc mC mC hee ee enenene ** *seeeeeee \\u201cvee 8 \\u00a9 \\u00a9 o'e.*.*.** 2% ** Foe & OOP, 8 Se, 8 FSS, 8 \\u00a9 SH, 28 FH, AF SSS, FFF,  F\\u20acFFFVEGeeeee eee eenee \\u201ceee \\u00ab Gwe te eee see \\u201cvee \\u00a9 Wee eee ee \\u00a9 ee ***eeeeeeeeeeeee, te eeeeeeeeeeeeeeeeoeoee SS EO Ee teckiay \\u201cee Dee ee ee ee ee e886 ote ee eee eee ee eee eee ** EEE ee Oe ee Oe + ** eeeeeeeeeeeeeeee ~* eee eee eeeeeeeeee SSSSSSSeeeeeeeee, gt eeeeeeeeeeeeeeeeeee CR Ee eee eee eaeeeaeneaeneaeeenene CGP EAS tp Oy EASY . 2 0%,*,%, 99,999 9 0 0 0 0 0 0 \\u00a9 One et RRR eee eee eee eee eee eee FoF ee ete eet! . e*eeeeee\\u00ae CCRC eee eee ee eee eee\\u2019 * \\u201cvee ee ewe ewe errr errr ere eee eee ee eee eee eee ee ee ee ee eee ee ee ee ee ee ee rs Sif eee eevee eeeneenne ee fe ee 8 ee * * . 3 eee eee eee eeeeeeeeeee . cscseseoseseese\\u00ae < eeeelhe > See . >. > f . : ** SESS ESESESESEH HEHEHE HEHEHE EEE EEE EE -*. . . mre . es \\u201cs . =o\\\", 2 . *, : oe * 4. ** ws 3s ** . es . sos CS Prcacoccsses \\u201c% \\u201d Atte eeeeeee o**** 4\\\" . wnanaman . <> NALS TSS . Tees, : ; (Ay . * 4 \\u201cs Sey Ber SEL5e,\", \"objects\": [{\"type\": \"logo\", \"position\": {\"left\": 5, \"top\": 10, \"width\": 20, \"height\": 30}}], \"info\": {\"width\": 1, \"height\": 1, \"type\": \"main\"}, \"facts\": [{\"text\": \"AF SSS\", \"tag\": \"ORGANIZATION\", \"tokens\": [{\"text\": \"AF\", \"position\": {\"left\": 195, \"top\": 309, \"width\": 5, \"height\": 3}, \"offset\": 734}, {\"text\": \"SSS,\", \"position\": {\"left\": 201, \"top\": 309, \"width\": 10, \"height\": 3}, \"offset\": 737}]}, {\"text\": \"FFF\", \"tag\": \"ORGANIZATION\", \"tokens\": [{\"text\": \"FFF,\", \"position\": {\"left\": 215, \"top\": 309, \"width\": 13, \"height\": 3}, \"offset\": 742}]}]}, {\"index\": 4, \"text\": \"About Main C DLL Demo am (LisA\\\\io) aero: LESDTOOLS C DLL Main Demo 32 Bit Version 1.0 Copyright \\u00a9 1991-2014 LEAD Technologies, Inc. SLL RIGHTS RESERVED. Technical Support: 192? South Tryon Street Charlotte, NC 28203 (704) 372-9651 LEADTOOLS\\u00ae for Wins2 Raster Imaging Pro Version 18.0 Date: Feb 14 2014 Time: 16:52:29 You are licensed to use this program as described in the license agreement contained in the help file SESH RRR SCHR RRR eee eee eee OK\", \"objects\": [{\"type\": \"logo\", \"position\": {\"left\": 5, \"top\": 10, \"width\": 20, \"height\": 30}}], \"info\": {\"width\": 1, \"height\": 1, \"type\": \"main\"}, \"facts\": []}, {\"index\": 5, \"text\": \"About Main C DLL Derma am EAE, he TE LESDTOOLS C DLL Main Demo 32 Bit Version 1.0 Copyright \\u00a9 1991-2014 LEAD Technologies, Inc. SLL RIGHTS RESERVED. Technical Suppott: 192? South Tryon Street Charlotte, NC 28203 Gn) erento LEADTUOLS\\u00ae for Wins2 Raster Imaging Pro Version 18.0 Date: Feb 14 2014 Time: 16:52:29 baal O =) (-M (et) gt -ie eM aaa) (ele f=] ees fe) 1 in the license agreement contained in the help file PRR RSS S SEES EEE EEE EE EEE EEE ESS (PE RESESEEE SESE ESE EE EERE EERE als\", \"objects\": [{\"type\": \"logo\", \"position\": {\"left\": 5, \"top\": 10, \"width\": 20, \"height\": 30}}], \"info\": {\"width\": 1, \"height\": 1, \"type\": \"main\"}, \"facts\": []}]}\n",
      "Wall time: 1min 41s\n"
     ]
    }
   ],
   "source": [
    "%%time\n",
    "#  Document processing pipeline Request\n",
    "\n",
    "import base64\n",
    "import requests\n",
    "import json\n",
    "from pathlib import Path\n",
    "\n",
    "\n",
    "def encode_b64(file_path):\n",
    "    \"\"\"Function encodes file to base64.\"\"\"\n",
    "\n",
    "    with open(file_path, \"rb\") as rf:\n",
    "        bytes_ = rf.read()\n",
    "        file_b64 = str(base64.b64encode(bytes_), 'utf-8')\n",
    "\n",
    "    return file_b64\n",
    "\n",
    "\n",
    "document_path = r\"./pages/multipage_tif_example0.tif\"\n",
    "address = \"http://127.0.0.1:7777/v1/process_document\"\n",
    "\n",
    "document_name = Path(document_path).name\n",
    "encoded_document = encode_b64(document_path)\n",
    "\n",
    "headers = {\"Content-Type\": \"application/json\"}\n",
    "body = {\n",
    "    \"filename\": document_name,\n",
    "    \"file_b64\": encoded_document\n",
    "}\n",
    "\n",
    "response = requests.post(address, json=json.dumps(body), headers=headers)\n",
    "\n",
    "print(response.text)"
   ]
  },
  {
   "cell_type": "code",
   "execution_count": null,
   "id": "2069d35a",
   "metadata": {},
   "outputs": [],
   "source": []
  }
 ],
 "metadata": {
  "kernelspec": {
   "display_name": "Python 3 (ipykernel)",
   "language": "python",
   "name": "python3"
  },
  "language_info": {
   "codemirror_mode": {
    "name": "ipython",
    "version": 3
   },
   "file_extension": ".py",
   "mimetype": "text/x-python",
   "name": "python",
   "nbconvert_exporter": "python",
   "pygments_lexer": "ipython3",
   "version": "3.7.0"
  }
 },
 "nbformat": 4,
 "nbformat_minor": 5
}
